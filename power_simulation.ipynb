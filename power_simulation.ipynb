{
 "cells": [
  {
   "cell_type": "markdown",
   "metadata": {},
   "source": [
    "### the empirical distribution of paywall hits "
   ]
  },
  {
   "cell_type": "code",
   "execution_count": 67,
   "metadata": {},
   "outputs": [],
   "source": [
    "library(ggplot2)\n",
    "library(foreach)\n",
    "library(doParallel)\n",
    "registerDoParallel(cores=2)"
   ]
  },
  {
   "cell_type": "code",
   "execution_count": 36,
   "metadata": {},
   "outputs": [],
   "source": [
    "dist = data.frame(hits = c(0:2,'3+'), \n",
    "                  fraction = c(.21,.31,.15,.33))"
   ]
  },
  {
   "cell_type": "code",
   "execution_count": 37,
   "metadata": {},
   "outputs": [
    {
     "data": {
      "text/html": [
       "<table>\n",
       "<caption>A data.frame: 4 × 2</caption>\n",
       "<thead>\n",
       "\t<tr><th scope=col>hits</th><th scope=col>fraction</th></tr>\n",
       "\t<tr><th scope=col>&lt;fct&gt;</th><th scope=col>&lt;dbl&gt;</th></tr>\n",
       "</thead>\n",
       "<tbody>\n",
       "\t<tr><td>0 </td><td>0.21</td></tr>\n",
       "\t<tr><td>1 </td><td>0.31</td></tr>\n",
       "\t<tr><td>2 </td><td>0.15</td></tr>\n",
       "\t<tr><td>3+</td><td>0.33</td></tr>\n",
       "</tbody>\n",
       "</table>\n"
      ],
      "text/latex": [
       "A data.frame: 4 × 2\n",
       "\\begin{tabular}{r|ll}\n",
       " hits & fraction\\\\\n",
       " <fct> & <dbl>\\\\\n",
       "\\hline\n",
       "\t 0  & 0.21\\\\\n",
       "\t 1  & 0.31\\\\\n",
       "\t 2  & 0.15\\\\\n",
       "\t 3+ & 0.33\\\\\n",
       "\\end{tabular}\n"
      ],
      "text/markdown": [
       "\n",
       "A data.frame: 4 × 2\n",
       "\n",
       "| hits &lt;fct&gt; | fraction &lt;dbl&gt; |\n",
       "|---|---|\n",
       "| 0  | 0.21 |\n",
       "| 1  | 0.31 |\n",
       "| 2  | 0.15 |\n",
       "| 3+ | 0.33 |\n",
       "\n"
      ],
      "text/plain": [
       "  hits fraction\n",
       "1 0    0.21    \n",
       "2 1    0.31    \n",
       "3 2    0.15    \n",
       "4 3+   0.33    "
      ]
     },
     "metadata": {},
     "output_type": "display_data"
    }
   ],
   "source": [
    "dist"
   ]
  },
  {
   "cell_type": "markdown",
   "metadata": {},
   "source": [
    "### treatment options at each step \n",
    "* A: $1 for 2 months\n",
    "\n",
    "* B: $1 for 4 months \n",
    "\n",
    "* C1: $1 for 6 months (the current price), \"stay informed\" (the same as A and B) \n",
    "\n",
    "* C2: $1 for 6 months (the current price), \"you have been selected\" (the status quo)"
   ]
  },
  {
   "cell_type": "code",
   "execution_count": 38,
   "metadata": {},
   "outputs": [],
   "source": [
    "# total number of visitors\n",
    "n = 600000\n",
    "\n",
    "# conversion rate of the status quo\n",
    "q = 0.003\n",
    "# treatment effect on conversion rate\n",
    "tau_q = -0.0005\n",
    "\n",
    "# average 1-year revenue per user conditional on conversion under the status quo \n",
    "# suppose on average users survive for 3 months after the discount ends\n",
    "rev = 1 + 6.99 * 4 * 3\n",
    "\n",
    "# treatment effect on revenue conditional on conversion \n",
    "# assuming the same survival time across conditions\n",
    "# 120 is the revenue difference between $1 for 2 months and the status quo\n",
    "# 60 is the revenue difference between $1 for 4 months and the status quo\n",
    "tau_rev = 100"
   ]
  },
  {
   "cell_type": "code",
   "execution_count": 39,
   "metadata": {},
   "outputs": [
    {
     "data": {
      "text/html": [
       "0.20756"
      ],
      "text/latex": [
       "0.20756"
      ],
      "text/markdown": [
       "0.20756"
      ],
      "text/plain": [
       "[1] 0.20756"
      ]
     },
     "metadata": {},
     "output_type": "display_data"
    }
   ],
   "source": [
    "# true expected revenue difference \n",
    "(q+tau_q)*(rev+tau_rev) - q*rev"
   ]
  },
  {
   "cell_type": "code",
   "execution_count": 40,
   "metadata": {},
   "outputs": [],
   "source": [
    "# fraction of users to assign to the status quo\n",
    "p = 0.5"
   ]
  },
  {
   "cell_type": "code",
   "execution_count": 41,
   "metadata": {},
   "outputs": [],
   "source": [
    "# a total of 54 sequences with different permutation of (A,B,C1) and (A,B,C2)\n",
    "treatment = paste0('t',seq(1:54))\n",
    "prob = c(p,rep((1-p)/53,53))"
   ]
  },
  {
   "cell_type": "code",
   "execution_count": 42,
   "metadata": {},
   "outputs": [],
   "source": [
    "treat = sample(treatment,n,prob = prob,replace = T)"
   ]
  },
  {
   "cell_type": "code",
   "execution_count": 43,
   "metadata": {},
   "outputs": [
    {
     "data": {
      "text/plain": [
       "treat\n",
       "    t1    t10    t11    t12    t13    t14    t15    t16    t17    t18    t19 \n",
       "300284   5625   5828   5613   5582   5607   5742   5616   5736   5580   5644 \n",
       "    t2    t20    t21    t22    t23    t24    t25    t26    t27    t28    t29 \n",
       "  5754   5609   5651   5615   5710   5843   5738   5518   5729   5747   5619 \n",
       "    t3    t30    t31    t32    t33    t34    t35    t36    t37    t38    t39 \n",
       "  5705   5687   5663   5723   5750   5726   5624   5616   5598   5645   5692 \n",
       "    t4    t40    t41    t42    t43    t44    t45    t46    t47    t48    t49 \n",
       "  5655   5678   5621   5583   5727   5640   5630   5507   5698   5596   5438 \n",
       "    t5    t50    t51    t52    t53    t54     t6     t7     t8     t9 \n",
       "  5635   5674   5563   5748   5656   5587   5757   5680   5628   5480 "
      ]
     },
     "metadata": {},
     "output_type": "display_data"
    }
   ],
   "source": [
    "table(treat)"
   ]
  },
  {
   "cell_type": "code",
   "execution_count": 44,
   "metadata": {},
   "outputs": [],
   "source": [
    "y = ifelse(treat == 't1', \n",
    "           sample(c(0,rev),n,prob=c(1-q,q),replace=T), \n",
    "           sample(c(0,rev+tau_rev),n,prob=c(1-(q+tau_q),q+tau_q),replace=T))"
   ]
  },
  {
   "cell_type": "code",
   "execution_count": 45,
   "metadata": {},
   "outputs": [
    {
     "data": {
      "text/plain": [
       "y\n",
       "     0  84.88 184.88 \n",
       "598316    910    774 "
      ]
     },
     "metadata": {},
     "output_type": "display_data"
    }
   ],
   "source": [
    "table(y)"
   ]
  },
  {
   "cell_type": "code",
   "execution_count": 46,
   "metadata": {},
   "outputs": [],
   "source": [
    "df = data.frame(y = y, treat = treat, prob = ifelse(treat == 't1',p,(1-p)/53))"
   ]
  },
  {
   "cell_type": "code",
   "execution_count": 47,
   "metadata": {
    "scrolled": true
   },
   "outputs": [
    {
     "data": {
      "text/html": [
       "0.0075223856062868"
      ],
      "text/latex": [
       "0.0075223856062868"
      ],
      "text/markdown": [
       "0.0075223856062868"
      ],
      "text/plain": [
       "[1] 0.007522386"
      ]
     },
     "metadata": {},
     "output_type": "display_data"
    }
   ],
   "source": [
    "summary(lm(y ~ treat, weights = 1/prob, data = df))$coefficient[2,4]"
   ]
  },
  {
   "cell_type": "markdown",
   "metadata": {},
   "source": [
    "### putting it into a function"
   ]
  },
  {
   "cell_type": "code",
   "execution_count": 74,
   "metadata": {},
   "outputs": [],
   "source": [
    "power <- function(p = 0.5, n = 600000,\n",
    "                 q = 0.003, rev = 1 + 6.99 * 4 * 3,\n",
    "                 tau_q = -0.0005, tau_rev = 100) {\n",
    "    \n",
    "#print(c(p,n,q,tau_q,rev,tau_rev))\n",
    "    \n",
    "treatment = paste0('t',seq(1:54))\n",
    "prob = c(p,rep((1-p)/53,53))\n",
    "    \n",
    "treat = sample(treatment,n,prob = prob,replace = T)\n",
    "    \n",
    "y = ifelse(treat == 't1', \n",
    "           sample(c(0,rev),n,prob=c(1-q,q),replace=T), \n",
    "           sample(c(0,rev+tau_rev),n,prob=c(1-(q+tau_q),q+tau_q),replace=T))\n",
    "    \n",
    "df = data.frame(y = y, treat = treat, prob = ifelse(treat == 't1',p,(1-p)/53))\n",
    "\n",
    "# p_value for a given condition\n",
    "p_value = summary(lm(y ~ treat, weights = 1/prob, data = df))$coefficient[2,4]\n",
    "    \n",
    "return(p_value)\n",
    "\n",
    "}"
   ]
  },
  {
   "cell_type": "code",
   "execution_count": 59,
   "metadata": {},
   "outputs": [
    {
     "name": "stdout",
     "output_type": "stream",
     "text": [
      "[1]  5.000e-01  6.000e+05  3.000e-03 -5.000e-04  8.488e+01  1.000e+02\n"
     ]
    },
    {
     "data": {
      "text/html": [
       "0.121154120991674"
      ],
      "text/latex": [
       "0.121154120991674"
      ],
      "text/markdown": [
       "0.121154120991674"
      ],
      "text/plain": [
       "[1] 0.1211541"
      ]
     },
     "metadata": {},
     "output_type": "display_data"
    }
   ],
   "source": [
    "power()"
   ]
  },
  {
   "cell_type": "code",
   "execution_count": 81,
   "metadata": {
    "scrolled": true
   },
   "outputs": [],
   "source": [
    "k = 100\n",
    "\n",
    "foreach(i = 1:k, .combine = c) %dopar% {\n",
    "    \n",
    "    power(p = 0.2, n = 600000,\n",
    "          q = 0.003, rev = 1 + 6.99 * 4 * 3,\n",
    "          tau_q = 0, tau_rev = 100)\n",
    "    \n",
    "} -> result "
   ]
  },
  {
   "cell_type": "code",
   "execution_count": 82,
   "metadata": {},
   "outputs": [
    {
     "data": {
      "text/html": [
       "0.61"
      ],
      "text/latex": [
       "0.61"
      ],
      "text/markdown": [
       "0.61"
      ],
      "text/plain": [
       "[1] 0.61"
      ]
     },
     "metadata": {},
     "output_type": "display_data"
    }
   ],
   "source": [
    "mean(result <= 0.05)"
   ]
  },
  {
   "cell_type": "code",
   "execution_count": 83,
   "metadata": {
    "scrolled": false
   },
   "outputs": [
    {
     "data": {
      "image/png": "[encoded data removed]",
      "text/plain": [
       "plot without title"
      ]
     },
     "metadata": {},
     "output_type": "display_data"
    }
   ],
   "source": [
    "ggplot(aes(result),data = data.frame(result = result)) + geom_density() + \n",
    "geom_vline(xintercept = 0.05, color = \"red\") + theme_bw()"
   ]
  }
 ],
 "metadata": {
  "kernelspec": {
   "display_name": "R",
   "language": "R",
   "name": "ir"
  },
  "language_info": {
   "codemirror_mode": "r",
   "file_extension": ".r",
   "mimetype": "text/x-r-source",
   "name": "R",
   "pygments_lexer": "r",
   "version": "3.6.1"
  }
 },
 "nbformat": 4,
 "nbformat_minor": 2
}
