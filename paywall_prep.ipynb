{
 "cells": [
  {
   "cell_type": "code",
   "execution_count": 1,
   "metadata": {},
   "outputs": [],
   "source": [
    "setwd('/srv/Globe-raw-data')"
   ]
  },
  {
   "cell_type": "markdown",
   "metadata": {},
   "source": [
    "list.files()"
   ]
  },
  {
   "cell_type": "code",
   "execution_count": 68,
   "metadata": {},
   "outputs": [],
   "source": [
    "library(readr)\n",
    "library(vroom)\n",
    "library(tidyverse)\n",
    "library(foreach)"
   ]
  },
  {
   "cell_type": "markdown",
   "metadata": {},
   "source": [
    "### prepare raw data into a cleaned data frame"
   ]
  },
  {
   "cell_type": "code",
   "execution_count": 69,
   "metadata": {},
   "outputs": [],
   "source": [
    "dates = seq(as.Date('2020-07-01'), as.Date('2020-07-19'), 1)"
   ]
  },
  {
   "cell_type": "markdown",
   "metadata": {},
   "source": [
    "dates = dates[dates != '2020-07-14']"
   ]
  },
  {
   "cell_type": "code",
   "execution_count": 70,
   "metadata": {},
   "outputs": [
    {
     "data": {
      "text/html": [
       "19"
      ],
      "text/latex": [
       "19"
      ],
      "text/markdown": [
       "19"
      ],
      "text/plain": [
       "[1] 19"
      ]
     },
     "metadata": {},
     "output_type": "display_data"
    }
   ],
   "source": [
    "length(dates)"
   ]
  },
  {
   "cell_type": "code",
   "execution_count": 97,
   "metadata": {},
   "outputs": [],
   "source": [
    "data_prep = function(date) {\n",
    "    \n",
    "    print(date)\n",
    "    \n",
    "    # read column names \n",
    "    header = vroom(paste0('nytbostonglobecom_',date,'/column_headers.tsv'))\n",
    "    header = names(header)\n",
    "    \n",
    "    data = vroom(paste0('nytbostonglobecom_',date,'/hit_data.tsv'), delim = '\\t', col_names = header)\n",
    "    \n",
    "    # select relevant columns \n",
    "    df = select(data,date_time,evar68,evar3,prop28,event_list,post_visid_high,post_visid_low)\n",
    "    \n",
    "    df$post_visid_high = as.numeric(df$post_visid_high)\n",
    "    df$post_visid_low = as.numeric(df$post_visid_low)\n",
    "    \n",
    "    df = df %>% filter(!is.na(post_visid_high) & !is.na(post_visid_low))\n",
    "    \n",
    "    # 210 is the code for subscription \n",
    "    df$subscription = as.numeric(grepl('210', df$event_list, fixed=TRUE))\n",
    "    \n",
    "    df = group_by(df, post_visid_high, post_visid_low) %>% fill(evar68,evar3,prop28,.direction = \"downup\")\n",
    "    \n",
    "    colnames(df) = c('date_time','id','paywall_seq','paywall_count','event_list','post_visid_high','post_visid_low','subscription')\n",
    "    \n",
    "    # select users in one of the treatment groups\n",
    "    df = filter(df, paywall_seq %in% paste0('Paywall sale_Jun_22_20_',LETTERS[seq(from = 1, to = 14)]))\n",
    "    \n",
    "    df$paywall_count = as.numeric(df$paywall_count)\n",
    "    \n",
    "    df = df %>% filter(!is.na(paywall_seq) & !is.na(paywall_count))\n",
    "    \n",
    "    df$paywall_count[df$paywall_count > 4] = 4\n",
    "    \n",
    "    df = df %>% \n",
    "    group_by(post_visid_high, post_visid_low, paywall_count) %>% \n",
    "    summarize(paywall_seq = first(paywall_seq),\n",
    "        subscription = max(subscription),\n",
    "        date_time = min(date_time))\n",
    "        \n",
    "    df = df %>% ungroup %>% select(post_visid_high, post_visid_low, paywall_seq, paywall_count, subscription, date_time)\n",
    "    \n",
    "    return(df)\n",
    "    \n",
    "}"
   ]
  },
  {
   "cell_type": "code",
   "execution_count": 98,
   "metadata": {},
   "outputs": [],
   "source": [
    "library(doParallel)\n",
    "registerDoParallel(cores=10)"
   ]
  },
  {
   "cell_type": "code",
   "execution_count": 99,
   "metadata": {},
   "outputs": [],
   "source": [
    "df = foreach(i=1:length(dates), .combine='rbind') %dopar% {\n",
    "    \n",
    "    data_prep(dates[i])\n",
    "    \n",
    "}"
   ]
  },
  {
   "cell_type": "code",
   "execution_count": 109,
   "metadata": {},
   "outputs": [
    {
     "data": {
      "text/html": [
       "<table>\n",
       "<caption>A tibble: 6 × 6</caption>\n",
       "<thead>\n",
       "\t<tr><th scope=col>post_visid_high</th><th scope=col>post_visid_low</th><th scope=col>paywall_seq</th><th scope=col>paywall_count</th><th scope=col>subscription</th><th scope=col>date_time</th></tr>\n",
       "\t<tr><th scope=col>&lt;dbl&gt;</th><th scope=col>&lt;dbl&gt;</th><th scope=col>&lt;chr&gt;</th><th scope=col>&lt;dbl&gt;</th><th scope=col>&lt;dbl&gt;</th><th scope=col>&lt;chr&gt;</th></tr>\n",
       "</thead>\n",
       "<tbody>\n",
       "\t<tr><td>6.664699e+17</td><td>1.668778e+18</td><td>Paywall sale_Jun_22_20_A</td><td>1</td><td>1</td><td>2020-07-01 00:35:33</td></tr>\n",
       "\t<tr><td>1.840745e+18</td><td>3.156594e+18</td><td>Paywall sale_Jun_22_20_A</td><td>3</td><td>0</td><td>2020-07-01 00:50:09</td></tr>\n",
       "\t<tr><td>1.840745e+18</td><td>3.156594e+18</td><td>Paywall sale_Jun_22_20_A</td><td>4</td><td>0</td><td>2020-07-01 00:50:27</td></tr>\n",
       "\t<tr><td>2.895220e+18</td><td>4.611687e+18</td><td>Paywall sale_Jun_22_20_A</td><td>4</td><td>0</td><td>2020-07-01 00:05:29</td></tr>\n",
       "\t<tr><td>2.934205e+18</td><td>4.611687e+18</td><td>Paywall sale_Jun_22_20_A</td><td>4</td><td>0</td><td>2020-07-01 00:34:34</td></tr>\n",
       "\t<tr><td>3.069214e+18</td><td>4.611687e+18</td><td>Paywall sale_Jun_22_20_A</td><td>2</td><td>0</td><td>2020-07-01 00:22:19</td></tr>\n",
       "</tbody>\n",
       "</table>\n"
      ],
      "text/latex": [
       "A tibble: 6 × 6\n",
       "\\begin{tabular}{r|llllll}\n",
       " post\\_visid\\_high & post\\_visid\\_low & paywall\\_seq & paywall\\_count & subscription & date\\_time\\\\\n",
       " <dbl> & <dbl> & <chr> & <dbl> & <dbl> & <chr>\\\\\n",
       "\\hline\n",
       "\t 6.664699e+17 & 1.668778e+18 & Paywall sale\\_Jun\\_22\\_20\\_A & 1 & 1 & 2020-07-01 00:35:33\\\\\n",
       "\t 1.840745e+18 & 3.156594e+18 & Paywall sale\\_Jun\\_22\\_20\\_A & 3 & 0 & 2020-07-01 00:50:09\\\\\n",
       "\t 1.840745e+18 & 3.156594e+18 & Paywall sale\\_Jun\\_22\\_20\\_A & 4 & 0 & 2020-07-01 00:50:27\\\\\n",
       "\t 2.895220e+18 & 4.611687e+18 & Paywall sale\\_Jun\\_22\\_20\\_A & 4 & 0 & 2020-07-01 00:05:29\\\\\n",
       "\t 2.934205e+18 & 4.611687e+18 & Paywall sale\\_Jun\\_22\\_20\\_A & 4 & 0 & 2020-07-01 00:34:34\\\\\n",
       "\t 3.069214e+18 & 4.611687e+18 & Paywall sale\\_Jun\\_22\\_20\\_A & 2 & 0 & 2020-07-01 00:22:19\\\\\n",
       "\\end{tabular}\n"
      ],
      "text/markdown": [
       "\n",
       "A tibble: 6 × 6\n",
       "\n",
       "| post_visid_high &lt;dbl&gt; | post_visid_low &lt;dbl&gt; | paywall_seq &lt;chr&gt; | paywall_count &lt;dbl&gt; | subscription &lt;dbl&gt; | date_time &lt;chr&gt; |\n",
       "|---|---|---|---|---|---|\n",
       "| 6.664699e+17 | 1.668778e+18 | Paywall sale_Jun_22_20_A | 1 | 1 | 2020-07-01 00:35:33 |\n",
       "| 1.840745e+18 | 3.156594e+18 | Paywall sale_Jun_22_20_A | 3 | 0 | 2020-07-01 00:50:09 |\n",
       "| 1.840745e+18 | 3.156594e+18 | Paywall sale_Jun_22_20_A | 4 | 0 | 2020-07-01 00:50:27 |\n",
       "| 2.895220e+18 | 4.611687e+18 | Paywall sale_Jun_22_20_A | 4 | 0 | 2020-07-01 00:05:29 |\n",
       "| 2.934205e+18 | 4.611687e+18 | Paywall sale_Jun_22_20_A | 4 | 0 | 2020-07-01 00:34:34 |\n",
       "| 3.069214e+18 | 4.611687e+18 | Paywall sale_Jun_22_20_A | 2 | 0 | 2020-07-01 00:22:19 |\n",
       "\n"
      ],
      "text/plain": [
       "  post_visid_high post_visid_low paywall_seq              paywall_count\n",
       "1 6.664699e+17    1.668778e+18   Paywall sale_Jun_22_20_A 1            \n",
       "2 1.840745e+18    3.156594e+18   Paywall sale_Jun_22_20_A 3            \n",
       "3 1.840745e+18    3.156594e+18   Paywall sale_Jun_22_20_A 4            \n",
       "4 2.895220e+18    4.611687e+18   Paywall sale_Jun_22_20_A 4            \n",
       "5 2.934205e+18    4.611687e+18   Paywall sale_Jun_22_20_A 4            \n",
       "6 3.069214e+18    4.611687e+18   Paywall sale_Jun_22_20_A 2            \n",
       "  subscription date_time          \n",
       "1 1            2020-07-01 00:35:33\n",
       "2 0            2020-07-01 00:50:09\n",
       "3 0            2020-07-01 00:50:27\n",
       "4 0            2020-07-01 00:05:29\n",
       "5 0            2020-07-01 00:34:34\n",
       "6 0            2020-07-01 00:22:19"
      ]
     },
     "metadata": {},
     "output_type": "display_data"
    }
   ],
   "source": [
    "head(df)"
   ]
  },
  {
   "cell_type": "code",
   "execution_count": 110,
   "metadata": {},
   "outputs": [
    {
     "data": {
      "text/html": [
       "<ol class=list-inline>\n",
       "\t<li>79148</li>\n",
       "\t<li>6</li>\n",
       "</ol>\n"
      ],
      "text/latex": [
       "\\begin{enumerate*}\n",
       "\\item 79148\n",
       "\\item 6\n",
       "\\end{enumerate*}\n"
      ],
      "text/markdown": [
       "1. 79148\n",
       "2. 6\n",
       "\n",
       "\n"
      ],
      "text/plain": [
       "[1] 79148     6"
      ]
     },
     "metadata": {},
     "output_type": "display_data"
    }
   ],
   "source": [
    "dim(df)"
   ]
  },
  {
   "cell_type": "code",
   "execution_count": 111,
   "metadata": {},
   "outputs": [
    {
     "data": {
      "text/plain": [
       "\n",
       "    0     1 \n",
       "78668   480 "
      ]
     },
     "metadata": {},
     "output_type": "display_data"
    }
   ],
   "source": [
    "table(df$subscription)"
   ]
  },
  {
   "cell_type": "code",
   "execution_count": 112,
   "metadata": {},
   "outputs": [],
   "source": [
    "write_csv(df, '/srv/Globe-raw-data/data_clean.csv')"
   ]
  }
 ],
 "metadata": {
  "kernelspec": {
   "display_name": "R",
   "language": "R",
   "name": "ir"
  },
  "language_info": {
   "codemirror_mode": "r",
   "file_extension": ".r",
   "mimetype": "text/x-r-source",
   "name": "R",
   "pygments_lexer": "r",
   "version": "3.6.0"
  }
 },
 "nbformat": 4,
 "nbformat_minor": 2
}
