{
 "cells": [
  {
   "cell_type": "code",
   "execution_count": 1,
   "metadata": {},
   "outputs": [
    {
     "name": "stderr",
     "output_type": "stream",
     "text": [
      "── \u001b[1mAttaching packages\u001b[22m ─────────────────────────────────────── tidyverse 1.3.0 ──\n",
      "\u001b[32m✔\u001b[39m \u001b[34mggplot2\u001b[39m 3.3.2     \u001b[32m✔\u001b[39m \u001b[34mdplyr  \u001b[39m 1.0.0\n",
      "\u001b[32m✔\u001b[39m \u001b[34mtibble \u001b[39m 3.0.3     \u001b[32m✔\u001b[39m \u001b[34mstringr\u001b[39m 1.4.0\n",
      "\u001b[32m✔\u001b[39m \u001b[34mtidyr  \u001b[39m 1.1.0     \u001b[32m✔\u001b[39m \u001b[34mforcats\u001b[39m 0.4.0\n",
      "\u001b[32m✔\u001b[39m \u001b[34mpurrr  \u001b[39m 0.3.4     \n",
      "── \u001b[1mConflicts\u001b[22m ────────────────────────────────────────── tidyverse_conflicts() ──\n",
      "\u001b[31m✖\u001b[39m \u001b[34mvroom\u001b[39m::\u001b[32mcol_character()\u001b[39m  masks \u001b[34mreadr\u001b[39m::col_character()\n",
      "\u001b[31m✖\u001b[39m \u001b[34mvroom\u001b[39m::\u001b[32mcol_date()\u001b[39m       masks \u001b[34mreadr\u001b[39m::col_date()\n",
      "\u001b[31m✖\u001b[39m \u001b[34mvroom\u001b[39m::\u001b[32mcol_datetime()\u001b[39m   masks \u001b[34mreadr\u001b[39m::col_datetime()\n",
      "\u001b[31m✖\u001b[39m \u001b[34mvroom\u001b[39m::\u001b[32mcol_double()\u001b[39m     masks \u001b[34mreadr\u001b[39m::col_double()\n",
      "\u001b[31m✖\u001b[39m \u001b[34mvroom\u001b[39m::\u001b[32mcol_factor()\u001b[39m     masks \u001b[34mreadr\u001b[39m::col_factor()\n",
      "\u001b[31m✖\u001b[39m \u001b[34mvroom\u001b[39m::\u001b[32mcol_guess()\u001b[39m      masks \u001b[34mreadr\u001b[39m::col_guess()\n",
      "\u001b[31m✖\u001b[39m \u001b[34mvroom\u001b[39m::\u001b[32mcol_integer()\u001b[39m    masks \u001b[34mreadr\u001b[39m::col_integer()\n",
      "\u001b[31m✖\u001b[39m \u001b[34mvroom\u001b[39m::\u001b[32mcol_logical()\u001b[39m    masks \u001b[34mreadr\u001b[39m::col_logical()\n",
      "\u001b[31m✖\u001b[39m \u001b[34mvroom\u001b[39m::\u001b[32mcol_number()\u001b[39m     masks \u001b[34mreadr\u001b[39m::col_number()\n",
      "\u001b[31m✖\u001b[39m \u001b[34mvroom\u001b[39m::\u001b[32mcol_skip()\u001b[39m       masks \u001b[34mreadr\u001b[39m::col_skip()\n",
      "\u001b[31m✖\u001b[39m \u001b[34mvroom\u001b[39m::\u001b[32mcol_time()\u001b[39m       masks \u001b[34mreadr\u001b[39m::col_time()\n",
      "\u001b[31m✖\u001b[39m \u001b[34mvroom\u001b[39m::\u001b[32mcols()\u001b[39m           masks \u001b[34mreadr\u001b[39m::cols()\n",
      "\u001b[31m✖\u001b[39m \u001b[34mvroom\u001b[39m::\u001b[32mdefault_locale()\u001b[39m masks \u001b[34mreadr\u001b[39m::default_locale()\n",
      "\u001b[31m✖\u001b[39m \u001b[34mdplyr\u001b[39m::\u001b[32mfilter()\u001b[39m         masks \u001b[34mstats\u001b[39m::filter()\n",
      "\u001b[31m✖\u001b[39m \u001b[34mvroom\u001b[39m::\u001b[32mfwf_empty()\u001b[39m      masks \u001b[34mreadr\u001b[39m::fwf_empty()\n",
      "\u001b[31m✖\u001b[39m \u001b[34mvroom\u001b[39m::\u001b[32mfwf_positions()\u001b[39m  masks \u001b[34mreadr\u001b[39m::fwf_positions()\n",
      "\u001b[31m✖\u001b[39m \u001b[34mdplyr\u001b[39m::\u001b[32mlag()\u001b[39m            masks \u001b[34mstats\u001b[39m::lag()\n",
      "\u001b[31m✖\u001b[39m \u001b[34mvroom\u001b[39m::\u001b[32mlocale()\u001b[39m         masks \u001b[34mreadr\u001b[39m::locale()\n",
      "\n",
      "Attaching package: ‘foreach’\n",
      "\n",
      "The following objects are masked from ‘package:purrr’:\n",
      "\n",
      "    accumulate, when\n",
      "\n"
     ]
    }
   ],
   "source": [
    "library(readr)\n",
    "library(vroom)\n",
    "library(tidyverse)\n",
    "library(foreach)"
   ]
  },
  {
   "cell_type": "code",
   "execution_count": 2,
   "metadata": {},
   "outputs": [],
   "source": [
    "df = read.csv('/srv/Globe-raw-data/data_clean.csv')"
   ]
  },
  {
   "cell_type": "code",
   "execution_count": 3,
   "metadata": {},
   "outputs": [
    {
     "data": {
      "text/html": [
       "<table>\n",
       "<caption>A data.frame: 6 × 5</caption>\n",
       "<thead>\n",
       "\t<tr><th scope=col>post_visid_high</th><th scope=col>post_visid_low</th><th scope=col>paywall_seq</th><th scope=col>paywall_count</th><th scope=col>subscription</th></tr>\n",
       "\t<tr><th scope=col>&lt;dbl&gt;</th><th scope=col>&lt;dbl&gt;</th><th scope=col>&lt;fct&gt;</th><th scope=col>&lt;int&gt;</th><th scope=col>&lt;int&gt;</th></tr>\n",
       "</thead>\n",
       "<tbody>\n",
       "\t<tr><td>1.840745e+18</td><td>3.156594e+18</td><td>Paywall sale_Jun_22_20_A</td><td>3</td><td>0</td></tr>\n",
       "\t<tr><td>1.840745e+18</td><td>3.156594e+18</td><td>Paywall sale_Jun_22_20_A</td><td>4</td><td>0</td></tr>\n",
       "\t<tr><td>2.895220e+18</td><td>4.611687e+18</td><td>Paywall sale_Jun_22_20_A</td><td>4</td><td>0</td></tr>\n",
       "\t<tr><td>2.934205e+18</td><td>4.611687e+18</td><td>Paywall sale_Jun_22_20_A</td><td>4</td><td>0</td></tr>\n",
       "\t<tr><td>3.069214e+18</td><td>4.611687e+18</td><td>Paywall sale_Jun_22_20_A</td><td>2</td><td>0</td></tr>\n",
       "\t<tr><td>3.075456e+18</td><td>4.611693e+18</td><td>Paywall sale_Jun_22_20_A</td><td>4</td><td>0</td></tr>\n",
       "</tbody>\n",
       "</table>\n"
      ],
      "text/latex": [
       "A data.frame: 6 × 5\n",
       "\\begin{tabular}{r|lllll}\n",
       " post\\_visid\\_high & post\\_visid\\_low & paywall\\_seq & paywall\\_count & subscription\\\\\n",
       " <dbl> & <dbl> & <fct> & <int> & <int>\\\\\n",
       "\\hline\n",
       "\t 1.840745e+18 & 3.156594e+18 & Paywall sale\\_Jun\\_22\\_20\\_A & 3 & 0\\\\\n",
       "\t 1.840745e+18 & 3.156594e+18 & Paywall sale\\_Jun\\_22\\_20\\_A & 4 & 0\\\\\n",
       "\t 2.895220e+18 & 4.611687e+18 & Paywall sale\\_Jun\\_22\\_20\\_A & 4 & 0\\\\\n",
       "\t 2.934205e+18 & 4.611687e+18 & Paywall sale\\_Jun\\_22\\_20\\_A & 4 & 0\\\\\n",
       "\t 3.069214e+18 & 4.611687e+18 & Paywall sale\\_Jun\\_22\\_20\\_A & 2 & 0\\\\\n",
       "\t 3.075456e+18 & 4.611693e+18 & Paywall sale\\_Jun\\_22\\_20\\_A & 4 & 0\\\\\n",
       "\\end{tabular}\n"
      ],
      "text/markdown": [
       "\n",
       "A data.frame: 6 × 5\n",
       "\n",
       "| post_visid_high &lt;dbl&gt; | post_visid_low &lt;dbl&gt; | paywall_seq &lt;fct&gt; | paywall_count &lt;int&gt; | subscription &lt;int&gt; |\n",
       "|---|---|---|---|---|\n",
       "| 1.840745e+18 | 3.156594e+18 | Paywall sale_Jun_22_20_A | 3 | 0 |\n",
       "| 1.840745e+18 | 3.156594e+18 | Paywall sale_Jun_22_20_A | 4 | 0 |\n",
       "| 2.895220e+18 | 4.611687e+18 | Paywall sale_Jun_22_20_A | 4 | 0 |\n",
       "| 2.934205e+18 | 4.611687e+18 | Paywall sale_Jun_22_20_A | 4 | 0 |\n",
       "| 3.069214e+18 | 4.611687e+18 | Paywall sale_Jun_22_20_A | 2 | 0 |\n",
       "| 3.075456e+18 | 4.611693e+18 | Paywall sale_Jun_22_20_A | 4 | 0 |\n",
       "\n"
      ],
      "text/plain": [
       "  post_visid_high post_visid_low paywall_seq              paywall_count\n",
       "1 1.840745e+18    3.156594e+18   Paywall sale_Jun_22_20_A 3            \n",
       "2 1.840745e+18    3.156594e+18   Paywall sale_Jun_22_20_A 4            \n",
       "3 2.895220e+18    4.611687e+18   Paywall sale_Jun_22_20_A 4            \n",
       "4 2.934205e+18    4.611687e+18   Paywall sale_Jun_22_20_A 4            \n",
       "5 3.069214e+18    4.611687e+18   Paywall sale_Jun_22_20_A 2            \n",
       "6 3.075456e+18    4.611693e+18   Paywall sale_Jun_22_20_A 4            \n",
       "  subscription\n",
       "1 0           \n",
       "2 0           \n",
       "3 0           \n",
       "4 0           \n",
       "5 0           \n",
       "6 0           "
      ]
     },
     "metadata": {},
     "output_type": "display_data"
    }
   ],
   "source": [
    "head(df)"
   ]
  },
  {
   "cell_type": "code",
   "execution_count": 4,
   "metadata": {},
   "outputs": [
    {
     "data": {
      "text/plain": [
       "\n",
       "Call:\n",
       "lm(formula = subscription ~ paywall_seq, data = df %>% distinct(post_visid_high, \n",
       "    post_visid_low, .keep_all = T))\n",
       "\n",
       "Residuals:\n",
       "     Min       1Q   Median       3Q      Max \n",
       "-0.01066 -0.00728 -0.00728 -0.00577  0.99649 \n",
       "\n",
       "Coefficients:\n",
       "                                      Estimate Std. Error t value Pr(>|t|)    \n",
       "(Intercept)                          0.0072764  0.0004719  15.419   <2e-16 ***\n",
       "paywall_seqPaywall sale_Jun_22_20_B  0.0010404  0.0017033   0.611   0.5413    \n",
       "paywall_seqPaywall sale_Jun_22_20_C -0.0037567  0.0016935  -2.218   0.0265 *  \n",
       "paywall_seqPaywall sale_Jun_22_20_D  0.0009427  0.0016941   0.556   0.5779    \n",
       "paywall_seqPaywall sale_Jun_22_20_E -0.0017991  0.0016938  -1.062   0.2881    \n",
       "paywall_seqPaywall sale_Jun_22_20_F -0.0037636  0.0016919  -2.224   0.0261 *  \n",
       "paywall_seqPaywall sale_Jun_22_20_G -0.0020429  0.0017163  -1.190   0.2339    \n",
       "paywall_seqPaywall sale_Jun_22_20_H  0.0009139  0.0016913   0.540   0.5890    \n",
       "paywall_seqPaywall sale_Jun_22_20_I -0.0006796  0.0016874  -0.403   0.6871    \n",
       "paywall_seqPaywall sale_Jun_22_20_J -0.0029593  0.0016962  -1.745   0.0811 .  \n",
       "paywall_seqPaywall sale_Jun_22_20_K  0.0033829  0.0017009   1.989   0.0467 *  \n",
       "paywall_seqPaywall sale_Jun_22_20_L -0.0019790  0.0017259  -1.147   0.2516    \n",
       "paywall_seqPaywall sale_Jun_22_20_M -0.0015050  0.0016808  -0.895   0.3706    \n",
       "paywall_seqPaywall sale_Jun_22_20_N  0.0005945  0.0016984   0.350   0.7263    \n",
       "---\n",
       "Signif. codes:  0 ‘***’ 0.001 ‘**’ 0.01 ‘*’ 0.05 ‘.’ 0.1 ‘ ’ 1\n",
       "\n",
       "Residual standard error: 0.08224 on 63413 degrees of freedom\n",
       "Multiple R-squared:  0.0003573,\tAdjusted R-squared:  0.0001524 \n",
       "F-statistic: 1.744 on 13 and 63413 DF,  p-value: 0.04589\n"
      ]
     },
     "metadata": {},
     "output_type": "display_data"
    }
   ],
   "source": [
    "lm(subscription ~ paywall_seq, \n",
    "   data = df %>% distinct(post_visid_high, post_visid_low, .keep_all = T)) %>% summary"
   ]
  },
  {
   "cell_type": "markdown",
   "metadata": {},
   "source": [
    "### RL analysis"
   ]
  },
  {
   "cell_type": "code",
   "execution_count": 6,
   "metadata": {},
   "outputs": [],
   "source": [
    "df_rl = df %>% mutate(paywall = case_when(paywall_seq == \"Paywall sale_Jun_22_20_A\" ~ '$1/6m_s',\n",
    "                                   paywall_seq == \"Paywall sale_Jun_22_20_B\" ~ '$1/2m',\n",
    "                                   paywall_seq == \"Paywall sale_Jun_22_20_C\" ~ '$1/4m',\n",
    "                                   paywall_seq == \"Paywall sale_Jun_22_20_D\" ~ '$1/6m_i',\n",
    "                                   \n",
    "                                   paywall_seq == \"Paywall sale_Jun_22_20_E\" & paywall_count == 1 ~ '$1/2m',\n",
    "                                   paywall_seq == \"Paywall sale_Jun_22_20_E\" & paywall_count == 2 ~ '$1/4m',\n",
    "                                   paywall_seq == \"Paywall sale_Jun_22_20_E\" & paywall_count == 3 ~ '$1/6m_s',\n",
    "                                   paywall_seq == \"Paywall sale_Jun_22_20_E\" & paywall_count == 4 ~ '$1/6m_i',\n",
    "\n",
    "                                   paywall_seq == \"Paywall sale_Jun_22_20_F\" & paywall_count == 1 ~ '$1/4m',\n",
    "                                   paywall_seq == \"Paywall sale_Jun_22_20_F\" & paywall_count == 2 ~ '$1/2m',\n",
    "                                   paywall_seq == \"Paywall sale_Jun_22_20_F\" & paywall_count == 3 ~ '$1/6m_s',\n",
    "                                   paywall_seq == \"Paywall sale_Jun_22_20_F\" & paywall_count == 4 ~ '$1/6m_i',\n",
    "\n",
    "                                   paywall_seq == \"Paywall sale_Jun_22_20_G\" & paywall_count == 1 ~ '$1/2m',\n",
    "                                   paywall_seq == \"Paywall sale_Jun_22_20_G\" & paywall_count == 2 ~ '$1/6m_i',\n",
    "                                   paywall_seq == \"Paywall sale_Jun_22_20_G\" & paywall_count == 3 ~ '$1/4m',\n",
    "                                   paywall_seq == \"Paywall sale_Jun_22_20_G\" & paywall_count == 4 ~ '$1/6m_i',\n",
    "\n",
    "                                   paywall_seq == \"Paywall sale_Jun_22_20_H\" & paywall_count == 1 ~ '$1/6m_i',\n",
    "                                   paywall_seq == \"Paywall sale_Jun_22_20_H\" & paywall_count == 2 ~ '$1/2m',\n",
    "                                   paywall_seq == \"Paywall sale_Jun_22_20_H\" & paywall_count == 3 ~ '$1/6m_i',\n",
    "                                   paywall_seq == \"Paywall sale_Jun_22_20_H\" & paywall_count == 4 ~ '$1/6m_i',\n",
    "\n",
    "                                   paywall_seq == \"Paywall sale_Jun_22_20_I\" & paywall_count == 1 ~ '$1/2m',\n",
    "                                   paywall_seq == \"Paywall sale_Jun_22_20_I\" & paywall_count == 2 ~ '$1/6m_s',\n",
    "                                   paywall_seq == \"Paywall sale_Jun_22_20_I\" & paywall_count == 3 ~ '$1/4m',\n",
    "                                   paywall_seq == \"Paywall sale_Jun_22_20_I\" & paywall_count == 4 ~ '$1/6m_i',\n",
    "\n",
    "                                   paywall_seq == \"Paywall sale_Jun_22_20_J\" & paywall_count == 1 ~ '$1/6m_s',\n",
    "                                   paywall_seq == \"Paywall sale_Jun_22_20_J\" & paywall_count == 2 ~ '$1/2m',\n",
    "                                   paywall_seq == \"Paywall sale_Jun_22_20_J\" & paywall_count == 3 ~ '$1/4m',\n",
    "                                   paywall_seq == \"Paywall sale_Jun_22_20_J\" & paywall_count == 4 ~ '$1/6m_i',\n",
    "\n",
    "                                   paywall_seq == \"Paywall sale_Jun_22_20_K\" & paywall_count == 1 ~ '$1/4m',\n",
    "                                   paywall_seq == \"Paywall sale_Jun_22_20_K\" & paywall_count == 2 ~ '$1/6m_i',\n",
    "                                   paywall_seq == \"Paywall sale_Jun_22_20_K\" & paywall_count == 3 ~ '$1/2m',\n",
    "                                   paywall_seq == \"Paywall sale_Jun_22_20_K\" & paywall_count == 4 ~ '$1/6m_i',\n",
    "\n",
    "                                   paywall_seq == \"Paywall sale_Jun_22_20_L\" & paywall_count == 1 ~ '$1/6m_i',\n",
    "                                   paywall_seq == \"Paywall sale_Jun_22_20_L\" & paywall_count == 2 ~ '$1/4m',\n",
    "                                   paywall_seq == \"Paywall sale_Jun_22_20_L\" & paywall_count == 3 ~ '$1/6m_i',\n",
    "                                   paywall_seq == \"Paywall sale_Jun_22_20_L\" & paywall_count == 4 ~ '$1/6m_i',\n",
    "\n",
    "                                   paywall_seq == \"Paywall sale_Jun_22_20_M\" & paywall_count == 1 ~ '$1/4m',\n",
    "                                   paywall_seq == \"Paywall sale_Jun_22_20_M\" & paywall_count == 2 ~ '$1/6m_s',\n",
    "                                   paywall_seq == \"Paywall sale_Jun_22_20_M\" & paywall_count == 3 ~ '$1/2m',\n",
    "                                   paywall_seq == \"Paywall sale_Jun_22_20_M\" & paywall_count == 4 ~ '$1/6m_i',\n",
    "\n",
    "                                   paywall_seq == \"Paywall sale_Jun_22_20_K\" & paywall_count == 1 ~ '$1/6m_s',\n",
    "                                   paywall_seq == \"Paywall sale_Jun_22_20_K\" & paywall_count == 2 ~ '$1/4m',\n",
    "                                   paywall_seq == \"Paywall sale_Jun_22_20_K\" & paywall_count == 3 ~ '$1/2m',\n",
    "                                   paywall_seq == \"Paywall sale_Jun_22_20_K\" & paywall_count == 4 ~ '$1/6m_i'))"
   ]
  },
  {
   "cell_type": "code",
   "execution_count": 7,
   "metadata": {},
   "outputs": [
    {
     "data": {
      "text/html": [
       "<table>\n",
       "<caption>A data.frame: 6 × 6</caption>\n",
       "<thead>\n",
       "\t<tr><th scope=col>post_visid_high</th><th scope=col>post_visid_low</th><th scope=col>paywall_seq</th><th scope=col>paywall_count</th><th scope=col>subscription</th><th scope=col>paywall</th></tr>\n",
       "\t<tr><th scope=col>&lt;dbl&gt;</th><th scope=col>&lt;dbl&gt;</th><th scope=col>&lt;fct&gt;</th><th scope=col>&lt;int&gt;</th><th scope=col>&lt;int&gt;</th><th scope=col>&lt;chr&gt;</th></tr>\n",
       "</thead>\n",
       "<tbody>\n",
       "\t<tr><td>1.840745e+18</td><td>3.156594e+18</td><td>Paywall sale_Jun_22_20_A</td><td>3</td><td>0</td><td>$1/6m_s</td></tr>\n",
       "\t<tr><td>1.840745e+18</td><td>3.156594e+18</td><td>Paywall sale_Jun_22_20_A</td><td>4</td><td>0</td><td>$1/6m_s</td></tr>\n",
       "\t<tr><td>2.895220e+18</td><td>4.611687e+18</td><td>Paywall sale_Jun_22_20_A</td><td>4</td><td>0</td><td>$1/6m_s</td></tr>\n",
       "\t<tr><td>2.934205e+18</td><td>4.611687e+18</td><td>Paywall sale_Jun_22_20_A</td><td>4</td><td>0</td><td>$1/6m_s</td></tr>\n",
       "\t<tr><td>3.069214e+18</td><td>4.611687e+18</td><td>Paywall sale_Jun_22_20_A</td><td>2</td><td>0</td><td>$1/6m_s</td></tr>\n",
       "\t<tr><td>3.075456e+18</td><td>4.611693e+18</td><td>Paywall sale_Jun_22_20_A</td><td>4</td><td>0</td><td>$1/6m_s</td></tr>\n",
       "</tbody>\n",
       "</table>\n"
      ],
      "text/latex": [
       "A data.frame: 6 × 6\n",
       "\\begin{tabular}{r|llllll}\n",
       " post\\_visid\\_high & post\\_visid\\_low & paywall\\_seq & paywall\\_count & subscription & paywall\\\\\n",
       " <dbl> & <dbl> & <fct> & <int> & <int> & <chr>\\\\\n",
       "\\hline\n",
       "\t 1.840745e+18 & 3.156594e+18 & Paywall sale\\_Jun\\_22\\_20\\_A & 3 & 0 & \\$1/6m\\_s\\\\\n",
       "\t 1.840745e+18 & 3.156594e+18 & Paywall sale\\_Jun\\_22\\_20\\_A & 4 & 0 & \\$1/6m\\_s\\\\\n",
       "\t 2.895220e+18 & 4.611687e+18 & Paywall sale\\_Jun\\_22\\_20\\_A & 4 & 0 & \\$1/6m\\_s\\\\\n",
       "\t 2.934205e+18 & 4.611687e+18 & Paywall sale\\_Jun\\_22\\_20\\_A & 4 & 0 & \\$1/6m\\_s\\\\\n",
       "\t 3.069214e+18 & 4.611687e+18 & Paywall sale\\_Jun\\_22\\_20\\_A & 2 & 0 & \\$1/6m\\_s\\\\\n",
       "\t 3.075456e+18 & 4.611693e+18 & Paywall sale\\_Jun\\_22\\_20\\_A & 4 & 0 & \\$1/6m\\_s\\\\\n",
       "\\end{tabular}\n"
      ],
      "text/markdown": [
       "\n",
       "A data.frame: 6 × 6\n",
       "\n",
       "| post_visid_high &lt;dbl&gt; | post_visid_low &lt;dbl&gt; | paywall_seq &lt;fct&gt; | paywall_count &lt;int&gt; | subscription &lt;int&gt; | paywall &lt;chr&gt; |\n",
       "|---|---|---|---|---|---|\n",
       "| 1.840745e+18 | 3.156594e+18 | Paywall sale_Jun_22_20_A | 3 | 0 | $1/6m_s |\n",
       "| 1.840745e+18 | 3.156594e+18 | Paywall sale_Jun_22_20_A | 4 | 0 | $1/6m_s |\n",
       "| 2.895220e+18 | 4.611687e+18 | Paywall sale_Jun_22_20_A | 4 | 0 | $1/6m_s |\n",
       "| 2.934205e+18 | 4.611687e+18 | Paywall sale_Jun_22_20_A | 4 | 0 | $1/6m_s |\n",
       "| 3.069214e+18 | 4.611687e+18 | Paywall sale_Jun_22_20_A | 2 | 0 | $1/6m_s |\n",
       "| 3.075456e+18 | 4.611693e+18 | Paywall sale_Jun_22_20_A | 4 | 0 | $1/6m_s |\n",
       "\n"
      ],
      "text/plain": [
       "  post_visid_high post_visid_low paywall_seq              paywall_count\n",
       "1 1.840745e+18    3.156594e+18   Paywall sale_Jun_22_20_A 3            \n",
       "2 1.840745e+18    3.156594e+18   Paywall sale_Jun_22_20_A 4            \n",
       "3 2.895220e+18    4.611687e+18   Paywall sale_Jun_22_20_A 4            \n",
       "4 2.934205e+18    4.611687e+18   Paywall sale_Jun_22_20_A 4            \n",
       "5 3.069214e+18    4.611687e+18   Paywall sale_Jun_22_20_A 2            \n",
       "6 3.075456e+18    4.611693e+18   Paywall sale_Jun_22_20_A 4            \n",
       "  subscription paywall\n",
       "1 0            $1/6m_s\n",
       "2 0            $1/6m_s\n",
       "3 0            $1/6m_s\n",
       "4 0            $1/6m_s\n",
       "5 0            $1/6m_s\n",
       "6 0            $1/6m_s"
      ]
     },
     "metadata": {},
     "output_type": "display_data"
    }
   ],
   "source": [
    "head(df_rl)"
   ]
  },
  {
   "cell_type": "code",
   "execution_count": 8,
   "metadata": {},
   "outputs": [],
   "source": [
    "df_rl$paywall_count_next = ifelse(df_rl$paywall_count <= 3, df_rl$paywall_count + 1, df_rl$paywall_count)"
   ]
  },
  {
   "cell_type": "code",
   "execution_count": 9,
   "metadata": {},
   "outputs": [
    {
     "data": {
      "text/html": [
       "<table>\n",
       "<caption>A data.frame: 6 × 7</caption>\n",
       "<thead>\n",
       "\t<tr><th scope=col>post_visid_high</th><th scope=col>post_visid_low</th><th scope=col>paywall_seq</th><th scope=col>paywall_count</th><th scope=col>subscription</th><th scope=col>paywall</th><th scope=col>paywall_count_next</th></tr>\n",
       "\t<tr><th scope=col>&lt;dbl&gt;</th><th scope=col>&lt;dbl&gt;</th><th scope=col>&lt;fct&gt;</th><th scope=col>&lt;int&gt;</th><th scope=col>&lt;int&gt;</th><th scope=col>&lt;chr&gt;</th><th scope=col>&lt;dbl&gt;</th></tr>\n",
       "</thead>\n",
       "<tbody>\n",
       "\t<tr><td>1.840745e+18</td><td>3.156594e+18</td><td>Paywall sale_Jun_22_20_A</td><td>3</td><td>0</td><td>$1/6m_s</td><td>4</td></tr>\n",
       "\t<tr><td>1.840745e+18</td><td>3.156594e+18</td><td>Paywall sale_Jun_22_20_A</td><td>4</td><td>0</td><td>$1/6m_s</td><td>4</td></tr>\n",
       "\t<tr><td>2.895220e+18</td><td>4.611687e+18</td><td>Paywall sale_Jun_22_20_A</td><td>4</td><td>0</td><td>$1/6m_s</td><td>4</td></tr>\n",
       "\t<tr><td>2.934205e+18</td><td>4.611687e+18</td><td>Paywall sale_Jun_22_20_A</td><td>4</td><td>0</td><td>$1/6m_s</td><td>4</td></tr>\n",
       "\t<tr><td>3.069214e+18</td><td>4.611687e+18</td><td>Paywall sale_Jun_22_20_A</td><td>2</td><td>0</td><td>$1/6m_s</td><td>3</td></tr>\n",
       "\t<tr><td>3.075456e+18</td><td>4.611693e+18</td><td>Paywall sale_Jun_22_20_A</td><td>4</td><td>0</td><td>$1/6m_s</td><td>4</td></tr>\n",
       "</tbody>\n",
       "</table>\n"
      ],
      "text/latex": [
       "A data.frame: 6 × 7\n",
       "\\begin{tabular}{r|lllllll}\n",
       " post\\_visid\\_high & post\\_visid\\_low & paywall\\_seq & paywall\\_count & subscription & paywall & paywall\\_count\\_next\\\\\n",
       " <dbl> & <dbl> & <fct> & <int> & <int> & <chr> & <dbl>\\\\\n",
       "\\hline\n",
       "\t 1.840745e+18 & 3.156594e+18 & Paywall sale\\_Jun\\_22\\_20\\_A & 3 & 0 & \\$1/6m\\_s & 4\\\\\n",
       "\t 1.840745e+18 & 3.156594e+18 & Paywall sale\\_Jun\\_22\\_20\\_A & 4 & 0 & \\$1/6m\\_s & 4\\\\\n",
       "\t 2.895220e+18 & 4.611687e+18 & Paywall sale\\_Jun\\_22\\_20\\_A & 4 & 0 & \\$1/6m\\_s & 4\\\\\n",
       "\t 2.934205e+18 & 4.611687e+18 & Paywall sale\\_Jun\\_22\\_20\\_A & 4 & 0 & \\$1/6m\\_s & 4\\\\\n",
       "\t 3.069214e+18 & 4.611687e+18 & Paywall sale\\_Jun\\_22\\_20\\_A & 2 & 0 & \\$1/6m\\_s & 3\\\\\n",
       "\t 3.075456e+18 & 4.611693e+18 & Paywall sale\\_Jun\\_22\\_20\\_A & 4 & 0 & \\$1/6m\\_s & 4\\\\\n",
       "\\end{tabular}\n"
      ],
      "text/markdown": [
       "\n",
       "A data.frame: 6 × 7\n",
       "\n",
       "| post_visid_high &lt;dbl&gt; | post_visid_low &lt;dbl&gt; | paywall_seq &lt;fct&gt; | paywall_count &lt;int&gt; | subscription &lt;int&gt; | paywall &lt;chr&gt; | paywall_count_next &lt;dbl&gt; |\n",
       "|---|---|---|---|---|---|---|\n",
       "| 1.840745e+18 | 3.156594e+18 | Paywall sale_Jun_22_20_A | 3 | 0 | $1/6m_s | 4 |\n",
       "| 1.840745e+18 | 3.156594e+18 | Paywall sale_Jun_22_20_A | 4 | 0 | $1/6m_s | 4 |\n",
       "| 2.895220e+18 | 4.611687e+18 | Paywall sale_Jun_22_20_A | 4 | 0 | $1/6m_s | 4 |\n",
       "| 2.934205e+18 | 4.611687e+18 | Paywall sale_Jun_22_20_A | 4 | 0 | $1/6m_s | 4 |\n",
       "| 3.069214e+18 | 4.611687e+18 | Paywall sale_Jun_22_20_A | 2 | 0 | $1/6m_s | 3 |\n",
       "| 3.075456e+18 | 4.611693e+18 | Paywall sale_Jun_22_20_A | 4 | 0 | $1/6m_s | 4 |\n",
       "\n"
      ],
      "text/plain": [
       "  post_visid_high post_visid_low paywall_seq              paywall_count\n",
       "1 1.840745e+18    3.156594e+18   Paywall sale_Jun_22_20_A 3            \n",
       "2 1.840745e+18    3.156594e+18   Paywall sale_Jun_22_20_A 4            \n",
       "3 2.895220e+18    4.611687e+18   Paywall sale_Jun_22_20_A 4            \n",
       "4 2.934205e+18    4.611687e+18   Paywall sale_Jun_22_20_A 4            \n",
       "5 3.069214e+18    4.611687e+18   Paywall sale_Jun_22_20_A 2            \n",
       "6 3.075456e+18    4.611693e+18   Paywall sale_Jun_22_20_A 4            \n",
       "  subscription paywall paywall_count_next\n",
       "1 0            $1/6m_s 4                 \n",
       "2 0            $1/6m_s 4                 \n",
       "3 0            $1/6m_s 4                 \n",
       "4 0            $1/6m_s 4                 \n",
       "5 0            $1/6m_s 3                 \n",
       "6 0            $1/6m_s 4                 "
      ]
     },
     "metadata": {},
     "output_type": "display_data"
    }
   ],
   "source": [
    "head(df_rl)"
   ]
  },
  {
   "cell_type": "code",
   "execution_count": 10,
   "metadata": {},
   "outputs": [],
   "source": [
    "df_rl = df_rl %>% mutate(reward = case_when(subscription == 0 ~ 0,\n",
    "                                          \n",
    "                                   subscription == 1 & paywall_seq == \"Paywall sale_Jun_22_20_A\" ~ 1,\n",
    "                                   subscription == 1 & paywall_seq == \"Paywall sale_Jun_22_20_B\" ~ 111.88,\n",
    "                                   subscription == 1 & paywall_seq == \"Paywall sale_Jun_22_20_C\" ~ 56.44,\n",
    "                                   subscription == 1 & paywall_seq == \"Paywall sale_Jun_22_20_D\" ~ 1,\n",
    "                                   \n",
    "                                   subscription == 1 & paywall_seq == \"Paywall sale_Jun_22_20_E\" & paywall_count == 1 ~ 111.88,\n",
    "                                   subscription == 1 & paywall_seq == \"Paywall sale_Jun_22_20_E\" & paywall_count == 2 ~ 56.44,\n",
    "                                   subscription == 1 & paywall_seq == \"Paywall sale_Jun_22_20_E\" & paywall_count == 3 ~ 1,\n",
    "                                   subscription == 1 & paywall_seq == \"Paywall sale_Jun_22_20_E\" & paywall_count == 4 ~ 1,\n",
    "\n",
    "                                   subscription == 1 & paywall_seq == \"Paywall sale_Jun_22_20_F\" & paywall_count == 1 ~ 56.44,\n",
    "                                   subscription == 1 & paywall_seq == \"Paywall sale_Jun_22_20_F\" & paywall_count == 2 ~ 111.88,\n",
    "                                   subscription == 1 & paywall_seq == \"Paywall sale_Jun_22_20_F\" & paywall_count == 3 ~ 1,\n",
    "                                   subscription == 1 & paywall_seq == \"Paywall sale_Jun_22_20_F\" & paywall_count == 4 ~ 1,\n",
    "\n",
    "                                   subscription == 1 & paywall_seq == \"Paywall sale_Jun_22_20_G\" & paywall_count == 1 ~ 111.88,\n",
    "                                   subscription == 1 & paywall_seq == \"Paywall sale_Jun_22_20_G\" & paywall_count == 2 ~ 1,\n",
    "                                   subscription == 1 & paywall_seq == \"Paywall sale_Jun_22_20_G\" & paywall_count == 3 ~ 56.44,\n",
    "                                   subscription == 1 & paywall_seq == \"Paywall sale_Jun_22_20_G\" & paywall_count == 4 ~ 1,\n",
    "\n",
    "                                   subscription == 1 & paywall_seq == \"Paywall sale_Jun_22_20_H\" & paywall_count == 1 ~ 1,\n",
    "                                   subscription == 1 & paywall_seq == \"Paywall sale_Jun_22_20_H\" & paywall_count == 2 ~ 111.88,\n",
    "                                   subscription == 1 & paywall_seq == \"Paywall sale_Jun_22_20_H\" & paywall_count == 3 ~ 1,\n",
    "                                   subscription == 1 & paywall_seq == \"Paywall sale_Jun_22_20_H\" & paywall_count == 4 ~ 1,\n",
    "\n",
    "                                   subscription == 1 & paywall_seq == \"Paywall sale_Jun_22_20_I\" & paywall_count == 1 ~ 111.88,\n",
    "                                   subscription == 1 & paywall_seq == \"Paywall sale_Jun_22_20_I\" & paywall_count == 2 ~ 1,\n",
    "                                   subscription == 1 & paywall_seq == \"Paywall sale_Jun_22_20_I\" & paywall_count == 3 ~ 56.44,\n",
    "                                   subscription == 1 & paywall_seq == \"Paywall sale_Jun_22_20_I\" & paywall_count == 4 ~ 1,\n",
    "\n",
    "                                   subscription == 1 & paywall_seq == \"Paywall sale_Jun_22_20_J\" & paywall_count == 1 ~ 1,\n",
    "                                   subscription == 1 & paywall_seq == \"Paywall sale_Jun_22_20_J\" & paywall_count == 2 ~ 111.88,\n",
    "                                   subscription == 1 & paywall_seq == \"Paywall sale_Jun_22_20_J\" & paywall_count == 3 ~ 56.44,\n",
    "                                   subscription == 1 & paywall_seq == \"Paywall sale_Jun_22_20_J\" & paywall_count == 4 ~ 1,\n",
    "\n",
    "                                   subscription == 1 & paywall_seq == \"Paywall sale_Jun_22_20_K\" & paywall_count == 1 ~ 56.44,\n",
    "                                   subscription == 1 & paywall_seq == \"Paywall sale_Jun_22_20_K\" & paywall_count == 2 ~ 1,\n",
    "                                   subscription == 1 & paywall_seq == \"Paywall sale_Jun_22_20_K\" & paywall_count == 3 ~ 111.88,\n",
    "                                   subscription == 1 & paywall_seq == \"Paywall sale_Jun_22_20_K\" & paywall_count == 4 ~ 1,\n",
    "\n",
    "                                   subscription == 1 & paywall_seq == \"Paywall sale_Jun_22_20_L\" & paywall_count == 1 ~ 1,\n",
    "                                   subscription == 1 & paywall_seq == \"Paywall sale_Jun_22_20_L\" & paywall_count == 2 ~ 56.44,\n",
    "                                   subscription == 1 & paywall_seq == \"Paywall sale_Jun_22_20_L\" & paywall_count == 3 ~ 1,\n",
    "                                   subscription == 1 & paywall_seq == \"Paywall sale_Jun_22_20_L\" & paywall_count == 4 ~ 1,\n",
    "\n",
    "                                   subscription == 1 & paywall_seq == \"Paywall sale_Jun_22_20_M\" & paywall_count == 1 ~ 56.44,\n",
    "                                   subscription == 1 & paywall_seq == \"Paywall sale_Jun_22_20_M\" & paywall_count == 2 ~ 1,\n",
    "                                   subscription == 1 & paywall_seq == \"Paywall sale_Jun_22_20_M\" & paywall_count == 3 ~ 111.88,\n",
    "                                   subscription == 1 & paywall_seq == \"Paywall sale_Jun_22_20_M\" & paywall_count == 4 ~ 1,\n",
    "\n",
    "                                   subscription == 1 & paywall_seq == \"Paywall sale_Jun_22_20_K\" & paywall_count == 1 ~ 1,\n",
    "                                   subscription == 1 & paywall_seq == \"Paywall sale_Jun_22_20_K\" & paywall_count == 2 ~ 56.44,\n",
    "                                   subscription == 1 & paywall_seq == \"Paywall sale_Jun_22_20_K\" & paywall_count == 3 ~ 111.88,\n",
    "                                   subscription == 1 & paywall_seq == \"Paywall sale_Jun_22_20_K\" & paywall_count == 4 ~ 1))"
   ]
  },
  {
   "cell_type": "code",
   "execution_count": 11,
   "metadata": {},
   "outputs": [],
   "source": [
    "library(ReinforcementLearning)"
   ]
  },
  {
   "cell_type": "code",
   "execution_count": 12,
   "metadata": {},
   "outputs": [],
   "source": [
    "df_rl$paywall_count = as.character(df_rl$paywall_count)\n",
    "df_rl$paywall_count_next = as.character(df_rl$paywall_count_next)\n",
    "df_rl$paywall = as.character(df_rl$paywall)\n",
    "\n",
    "df_rl$reward = as.numeric(df_rl$reward)"
   ]
  },
  {
   "cell_type": "code",
   "execution_count": 13,
   "metadata": {},
   "outputs": [
    {
     "data": {
      "text/html": [
       "<table>\n",
       "<caption>A data.frame: 6 × 8</caption>\n",
       "<thead>\n",
       "\t<tr><th scope=col>post_visid_high</th><th scope=col>post_visid_low</th><th scope=col>paywall_seq</th><th scope=col>paywall_count</th><th scope=col>subscription</th><th scope=col>paywall</th><th scope=col>paywall_count_next</th><th scope=col>reward</th></tr>\n",
       "\t<tr><th scope=col>&lt;dbl&gt;</th><th scope=col>&lt;dbl&gt;</th><th scope=col>&lt;fct&gt;</th><th scope=col>&lt;chr&gt;</th><th scope=col>&lt;int&gt;</th><th scope=col>&lt;chr&gt;</th><th scope=col>&lt;chr&gt;</th><th scope=col>&lt;dbl&gt;</th></tr>\n",
       "</thead>\n",
       "<tbody>\n",
       "\t<tr><td>1.840745e+18</td><td>3.156594e+18</td><td>Paywall sale_Jun_22_20_A</td><td>3</td><td>0</td><td>$1/6m_s</td><td>4</td><td>0</td></tr>\n",
       "\t<tr><td>1.840745e+18</td><td>3.156594e+18</td><td>Paywall sale_Jun_22_20_A</td><td>4</td><td>0</td><td>$1/6m_s</td><td>4</td><td>0</td></tr>\n",
       "\t<tr><td>2.895220e+18</td><td>4.611687e+18</td><td>Paywall sale_Jun_22_20_A</td><td>4</td><td>0</td><td>$1/6m_s</td><td>4</td><td>0</td></tr>\n",
       "\t<tr><td>2.934205e+18</td><td>4.611687e+18</td><td>Paywall sale_Jun_22_20_A</td><td>4</td><td>0</td><td>$1/6m_s</td><td>4</td><td>0</td></tr>\n",
       "\t<tr><td>3.069214e+18</td><td>4.611687e+18</td><td>Paywall sale_Jun_22_20_A</td><td>2</td><td>0</td><td>$1/6m_s</td><td>3</td><td>0</td></tr>\n",
       "\t<tr><td>3.075456e+18</td><td>4.611693e+18</td><td>Paywall sale_Jun_22_20_A</td><td>4</td><td>0</td><td>$1/6m_s</td><td>4</td><td>0</td></tr>\n",
       "</tbody>\n",
       "</table>\n"
      ],
      "text/latex": [
       "A data.frame: 6 × 8\n",
       "\\begin{tabular}{r|llllllll}\n",
       " post\\_visid\\_high & post\\_visid\\_low & paywall\\_seq & paywall\\_count & subscription & paywall & paywall\\_count\\_next & reward\\\\\n",
       " <dbl> & <dbl> & <fct> & <chr> & <int> & <chr> & <chr> & <dbl>\\\\\n",
       "\\hline\n",
       "\t 1.840745e+18 & 3.156594e+18 & Paywall sale\\_Jun\\_22\\_20\\_A & 3 & 0 & \\$1/6m\\_s & 4 & 0\\\\\n",
       "\t 1.840745e+18 & 3.156594e+18 & Paywall sale\\_Jun\\_22\\_20\\_A & 4 & 0 & \\$1/6m\\_s & 4 & 0\\\\\n",
       "\t 2.895220e+18 & 4.611687e+18 & Paywall sale\\_Jun\\_22\\_20\\_A & 4 & 0 & \\$1/6m\\_s & 4 & 0\\\\\n",
       "\t 2.934205e+18 & 4.611687e+18 & Paywall sale\\_Jun\\_22\\_20\\_A & 4 & 0 & \\$1/6m\\_s & 4 & 0\\\\\n",
       "\t 3.069214e+18 & 4.611687e+18 & Paywall sale\\_Jun\\_22\\_20\\_A & 2 & 0 & \\$1/6m\\_s & 3 & 0\\\\\n",
       "\t 3.075456e+18 & 4.611693e+18 & Paywall sale\\_Jun\\_22\\_20\\_A & 4 & 0 & \\$1/6m\\_s & 4 & 0\\\\\n",
       "\\end{tabular}\n"
      ],
      "text/markdown": [
       "\n",
       "A data.frame: 6 × 8\n",
       "\n",
       "| post_visid_high &lt;dbl&gt; | post_visid_low &lt;dbl&gt; | paywall_seq &lt;fct&gt; | paywall_count &lt;chr&gt; | subscription &lt;int&gt; | paywall &lt;chr&gt; | paywall_count_next &lt;chr&gt; | reward &lt;dbl&gt; |\n",
       "|---|---|---|---|---|---|---|---|\n",
       "| 1.840745e+18 | 3.156594e+18 | Paywall sale_Jun_22_20_A | 3 | 0 | $1/6m_s | 4 | 0 |\n",
       "| 1.840745e+18 | 3.156594e+18 | Paywall sale_Jun_22_20_A | 4 | 0 | $1/6m_s | 4 | 0 |\n",
       "| 2.895220e+18 | 4.611687e+18 | Paywall sale_Jun_22_20_A | 4 | 0 | $1/6m_s | 4 | 0 |\n",
       "| 2.934205e+18 | 4.611687e+18 | Paywall sale_Jun_22_20_A | 4 | 0 | $1/6m_s | 4 | 0 |\n",
       "| 3.069214e+18 | 4.611687e+18 | Paywall sale_Jun_22_20_A | 2 | 0 | $1/6m_s | 3 | 0 |\n",
       "| 3.075456e+18 | 4.611693e+18 | Paywall sale_Jun_22_20_A | 4 | 0 | $1/6m_s | 4 | 0 |\n",
       "\n"
      ],
      "text/plain": [
       "  post_visid_high post_visid_low paywall_seq              paywall_count\n",
       "1 1.840745e+18    3.156594e+18   Paywall sale_Jun_22_20_A 3            \n",
       "2 1.840745e+18    3.156594e+18   Paywall sale_Jun_22_20_A 4            \n",
       "3 2.895220e+18    4.611687e+18   Paywall sale_Jun_22_20_A 4            \n",
       "4 2.934205e+18    4.611687e+18   Paywall sale_Jun_22_20_A 4            \n",
       "5 3.069214e+18    4.611687e+18   Paywall sale_Jun_22_20_A 2            \n",
       "6 3.075456e+18    4.611693e+18   Paywall sale_Jun_22_20_A 4            \n",
       "  subscription paywall paywall_count_next reward\n",
       "1 0            $1/6m_s 4                  0     \n",
       "2 0            $1/6m_s 4                  0     \n",
       "3 0            $1/6m_s 4                  0     \n",
       "4 0            $1/6m_s 4                  0     \n",
       "5 0            $1/6m_s 3                  0     \n",
       "6 0            $1/6m_s 4                  0     "
      ]
     },
     "metadata": {},
     "output_type": "display_data"
    }
   ],
   "source": [
    "head(df_rl)"
   ]
  },
  {
   "cell_type": "code",
   "execution_count": 14,
   "metadata": {},
   "outputs": [],
   "source": [
    "df_rl = filter(df_rl, paywall_count <= 3)"
   ]
  },
  {
   "cell_type": "code",
   "execution_count": 15,
   "metadata": {},
   "outputs": [],
   "source": [
    "# perform reinforcement learning\n",
    "model_sub <- ReinforcementLearning(data = as.data.frame(df_rl[complete.cases(df_rl),]), \n",
    "                               s = \"paywall_count\", \n",
    "                               a = \"paywall\", \n",
    "                               #r = 'reward',\n",
    "                               r = \"subscription\", \n",
    "                               s_new = \"paywall_count_next\", \n",
    "                               iter = 1)"
   ]
  },
  {
   "cell_type": "code",
   "execution_count": 16,
   "metadata": {},
   "outputs": [
    {
     "name": "stdout",
     "output_type": "stream",
     "text": [
      "State-Action function Q\n",
      "         $1/2m        $1/4m      $1/6m_i      $1/6m_s\n",
      "1 0.0065067152 4.525769e-05 4.612585e-05 4.374563e-05\n",
      "2 0.0001316668 1.822502e-04 4.016299e-04 5.668292e-06\n",
      "3 0.0000000000 2.939113e-20 2.151473e-06 2.996907e-05\n",
      "\n",
      "Policy\n",
      "        1         2         3 \n",
      "  \"$1/2m\" \"$1/6m_i\" \"$1/6m_s\" \n",
      "\n",
      "Reward (last iteration)\n",
      "[1] 390\n"
     ]
    }
   ],
   "source": [
    "print(model_sub)"
   ]
  },
  {
   "cell_type": "code",
   "execution_count": 17,
   "metadata": {},
   "outputs": [],
   "source": [
    "# perform reinforcement learning\n",
    "model_reward <- ReinforcementLearning(data = as.data.frame(df_rl[complete.cases(df_rl),]), \n",
    "                               s = \"paywall_count\", \n",
    "                               a = \"paywall\", \n",
    "                               r = 'reward',\n",
    "                               #r = \"subscription\", \n",
    "                               s_new = \"paywall_count_next\", \n",
    "                               iter = 1)"
   ]
  },
  {
   "cell_type": "code",
   "execution_count": 18,
   "metadata": {},
   "outputs": [
    {
     "name": "stdout",
     "output_type": "stream",
     "text": [
      "State-Action function Q\n",
      "         $1/2m        $1/4m      $1/6m_i      $1/6m_s\n",
      "1 0.7229114751 4.525769e-05 4.612585e-05 4.374563e-05\n",
      "2 0.0001316668 1.822504e-04 4.016299e-04 5.668292e-06\n",
      "3 0.0000000000 1.658836e-18 2.151473e-06 2.996907e-05\n",
      "\n",
      "Policy\n",
      "        1         2         3 \n",
      "  \"$1/2m\" \"$1/6m_i\" \"$1/6m_s\" \n",
      "\n",
      "Reward (last iteration)\n",
      "[1] 9981.12\n"
     ]
    }
   ],
   "source": [
    "print(model_reward)"
   ]
  }
 ],
 "metadata": {
  "kernelspec": {
   "display_name": "R",
   "language": "R",
   "name": "ir"
  },
  "language_info": {
   "codemirror_mode": "r",
   "file_extension": ".r",
   "mimetype": "text/x-r-source",
   "name": "R",
   "pygments_lexer": "r",
   "version": "3.6.0"
  }
 },
 "nbformat": 4,
 "nbformat_minor": 2
}
